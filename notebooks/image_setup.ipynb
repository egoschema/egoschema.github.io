{
 "cells": [
  {
   "cell_type": "code",
   "execution_count": 1,
   "id": "9b8d324f-33b3-416f-892a-16490d2c7b93",
   "metadata": {},
   "outputs": [],
   "source": [
    "from PIL import Image\n",
    "import os"
   ]
  },
  {
   "cell_type": "code",
   "execution_count": 4,
   "id": "f26d9f22-3dc1-40ac-b134-eb0daae949dd",
   "metadata": {},
   "outputs": [],
   "source": [
    "for clip_filename in os.listdir(\"images\"):\n",
    "    if \"ipynb\" in clip_filename:\n",
    "        continue\n",
    "    clip_name = clip_filename[:clip_filename.find(\".\")]\n",
    "    img = Image.open(f\"images/{clip_filename}\")\n",
    "    img = img.convert(\"RGBA\")\n",
    "\n",
    "    newsize = (224, 224)\n",
    "    img = img.resize(newsize)\n",
    "    \n",
    "    pixdata = img.load()\n",
    "    \n",
    "    w, h = img.size\n",
    "    for y in range(h):\n",
    "        for x in range(w):\n",
    "            if (x - w//2)**2 + (y - h//2)**2 > (h//2)**2:\n",
    "                pixdata[x, y] = (255, 255, 255, 0)\n",
    "    img.save(f\"transparent_images/{clip_name}.png\", \"PNG\")"
   ]
  },
  {
   "cell_type": "code",
   "execution_count": 5,
   "id": "53feddec-8aaa-48af-a526-4d75bfda1200",
   "metadata": {},
   "outputs": [
    {
     "data": {
      "text/plain": [
       "749"
      ]
     },
     "execution_count": 5,
     "metadata": {},
     "output_type": "execute_result"
    }
   ],
   "source": [
    "len(os.listdir(\"transparent_images\"))"
   ]
  },
  {
   "cell_type": "code",
   "execution_count": 6,
   "id": "7ad61b43-05e4-47fb-8687-d71e4ed04de2",
   "metadata": {},
   "outputs": [],
   "source": [
    "import json"
   ]
  },
  {
   "cell_type": "code",
   "execution_count": null,
   "id": "b9bd1e06-ca36-4c04-805d-c5951a1147c6",
   "metadata": {},
   "outputs": [],
   "source": []
  },
  {
   "cell_type": "code",
   "execution_count": null,
   "id": "893e8298-9c78-43dd-98f9-5bd60812e224",
   "metadata": {},
   "outputs": [],
   "source": [
    "for batch in [\"batch1\", \"batch2\", \"batch3\", \"batch4\"]:\n",
    "    j"
   ]
  }
 ],
 "metadata": {
  "kernelspec": {
   "display_name": "Python 3 (ipykernel)",
   "language": "python",
   "name": "python3"
  },
  "language_info": {
   "codemirror_mode": {
    "name": "ipython",
    "version": 3
   },
   "file_extension": ".py",
   "mimetype": "text/x-python",
   "name": "python",
   "nbconvert_exporter": "python",
   "pygments_lexer": "ipython3",
   "version": "3.8.10"
  }
 },
 "nbformat": 4,
 "nbformat_minor": 5
}
