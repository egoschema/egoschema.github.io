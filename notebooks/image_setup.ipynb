{
 "cells": [
  {
   "cell_type": "code",
   "execution_count": 1,
   "id": "9b8d324f-33b3-416f-892a-16490d2c7b93",
   "metadata": {},
   "outputs": [],
   "source": [
    "from PIL import Image\n",
    "import os"
   ]
  },
  {
   "cell_type": "code",
   "execution_count": 3,
   "id": "f26d9f22-3dc1-40ac-b134-eb0daae949dd",
   "metadata": {},
   "outputs": [],
   "source": [
    "for clip_filename in os.listdir(\"../images\"):\n",
    "    if \"ipynb\" in clip_filename:\n",
    "        continue\n",
    "    clip_name = clip_filename[:clip_filename.find(\".\")]\n",
    "    img = Image.open(f\"../images/{clip_filename}\")\n",
    "    img = img.convert(\"RGBA\")\n",
    "\n",
    "    newsize = (224, 224)\n",
    "    img = img.resize(newsize)\n",
    "    \n",
    "    pixdata = img.load()\n",
    "    \n",
    "    w, h = img.size\n",
    "    for y in range(h):\n",
    "        for x in range(w):\n",
    "            if (x - w//2)**2 + (y - h//2)**2 > (h//2)**2:\n",
    "                pixdata[x, y] = (255, 255, 255, 0)\n",
    "    img.save(f\"../transparent_images/{clip_name}.png\", \"PNG\")"
   ]
  },
  {
   "cell_type": "code",
   "execution_count": 5,
   "id": "53feddec-8aaa-48af-a526-4d75bfda1200",
   "metadata": {},
   "outputs": [
    {
     "data": {
      "text/plain": [
       "981"
      ]
     },
     "execution_count": 5,
     "metadata": {},
     "output_type": "execute_result"
    }
   ],
   "source": [
    "len(os.listdir(\"../transparent_images\"))"
   ]
  }
 ],
 "metadata": {
  "kernelspec": {
   "display_name": "Python 3 (ipykernel)",
   "language": "python",
   "name": "python3"
  },
  "language_info": {
   "codemirror_mode": {
    "name": "ipython",
    "version": 3
   },
   "file_extension": ".py",
   "mimetype": "text/x-python",
   "name": "python",
   "nbconvert_exporter": "python",
   "pygments_lexer": "ipython3",
   "version": "3.8.10"
  }
 },
 "nbformat": 4,
 "nbformat_minor": 5
}
