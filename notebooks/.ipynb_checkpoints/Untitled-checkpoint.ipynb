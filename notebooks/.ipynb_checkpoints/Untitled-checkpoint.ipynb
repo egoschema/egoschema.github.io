{
 "cells": [
  {
   "cell_type": "code",
   "execution_count": 17,
   "id": "cf599d38-578f-4f3c-a392-09d932237b01",
   "metadata": {},
   "outputs": [],
   "source": [
    "from PIL import Image\n",
    "import os"
   ]
  },
  {
   "cell_type": "code",
   "execution_count": 49,
   "id": "183f6c6a-0cc7-4dc0-9976-fdcd15f2fea0",
   "metadata": {},
   "outputs": [],
   "source": [
    "from PIL import Image\n",
    "import os\n",
    "import numpy as np\n",
    "\n",
    "newsize = (480 // 2, 360 // 2 - 10)\n",
    "\n",
    "grid_width = 9\n",
    "grid_height = 6\n",
    "\n",
    "# Directory where the images are located\n",
    "image_directory = '../images'\n",
    "\n",
    "# Creating a list of image filenames in the directory\n",
    "image_files = os.listdir(image_directory)\n",
    "\n",
    "# Sorting the image filenames to ensure consistent ordering\n",
    "image_files.sort()\n",
    "\n",
    "# Creating an empty list to store the images\n",
    "images = []\n",
    "\n",
    "# Loading each image and appending it to the list\n",
    "for filename in image_files:\n",
    "    if \"ipynb\" in filename or \"1dc85adb-fbdd-4275-b9cf-42976acb4d14_52067\" in filename:\n",
    "        continue\n",
    "    image_path = os.path.join(image_directory, filename)\n",
    "    image = Image.open(image_path)\n",
    "    image = image.resize(newsize)\n",
    "    \n",
    "    numpydata = np.asarray(image)\n",
    "    if np.sum(numpydata) < 10:\n",
    "        continue\n",
    "    \n",
    "    images.append(image)\n",
    "    \n",
    "    if len(images) == grid_width * grid_height:\n",
    "        break\n",
    "\n",
    "# Creating a new blank image for the grid\n",
    "grid_image = Image.new('RGB', (grid_width * images[0].width, grid_height * images[0].height))\n",
    "\n",
    "# Iterating over the images and pasting them onto the grid\n",
    "for i, image in enumerate(images):\n",
    "    x = (i % grid_width) * image.width\n",
    "    y = (i // grid_width) * image.height\n",
    "    grid_image.paste(image, (x, y))\n",
    "    \n",
    "grid_image = grid_image.convert(\"RGBA\")\n",
    "\n",
    "# Saving the final grid image\n",
    "pixdata = grid_image.load()\n",
    "\n",
    "w, h = grid_image.size\n",
    "for y in range(h):\n",
    "    for x in range(w):\n",
    "        a = list(pixdata[x, y])\n",
    "        a[-1] = 50\n",
    "        pixdata[x, y] =  tuple(a)\n",
    "grid_image.save(f\"../check.png\", \"PNG\")"
   ]
  },
  {
   "cell_type": "code",
   "execution_count": null,
   "id": "53ae29c8-e1a3-473e-acaa-a49aee9530fc",
   "metadata": {},
   "outputs": [],
   "source": []
  }
 ],
 "metadata": {
  "kernelspec": {
   "display_name": "Python 3 (ipykernel)",
   "language": "python",
   "name": "python3"
  },
  "language_info": {
   "codemirror_mode": {
    "name": "ipython",
    "version": 3
   },
   "file_extension": ".py",
   "mimetype": "text/x-python",
   "name": "python",
   "nbconvert_exporter": "python",
   "pygments_lexer": "ipython3",
   "version": "3.8.10"
  }
 },
 "nbformat": 4,
 "nbformat_minor": 5
}
