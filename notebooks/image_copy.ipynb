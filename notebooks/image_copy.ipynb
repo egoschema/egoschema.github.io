{
 "cells": [
  {
   "cell_type": "code",
   "execution_count": 6,
   "id": "67920f9f-09a5-47f4-92c4-176393834a4d",
   "metadata": {},
   "outputs": [],
   "source": [
    "import pandas as pd\n",
    "import json\n",
    "from PIL import Image\n",
    "import shutil\n",
    "import os\n",
    "\n",
    "good_df = pd.read_csv(\"../good.csv\")\n",
    "good_clips = set(good_df[\"clip_url\"])"
   ]
  },
  {
   "cell_type": "code",
   "execution_count": 11,
   "id": "e3589536-e26e-41ee-9279-8ac911fd2f17",
   "metadata": {},
   "outputs": [],
   "source": [
    "# moving the frames to the website folder\n",
    "qa_location = \"/shared/raiymbek/qa_data\"\n",
    "for batch in [\"batch1\", \"batch2\", \"batch3\", \"batch4\"]:\n",
    "    for clip_name in os.listdir(f\"{qa_location}/{batch}_frames_1\"):\n",
    "        if clip_name not in good_clips:\n",
    "            continue\n",
    "        shutil.copyfile(f\"{qa_location}/{batch}_frames_1/{clip_name}/image_1.jpg\", f\"images/{clip_name}.jpg\")"
   ]
  },
  {
   "cell_type": "code",
   "execution_count": 15,
   "id": "14b94acf-d06f-48ef-aa28-79ab8bf0e679",
   "metadata": {},
   "outputs": [
    {
     "data": {
      "text/plain": [
       "749"
      ]
     },
     "execution_count": 15,
     "metadata": {},
     "output_type": "execute_result"
    }
   ],
   "source": [
    "len(os.listdir(\"images\"))"
   ]
  },
  {
   "cell_type": "code",
   "execution_count": 16,
   "id": "557422ae-da96-40dc-8f63-7e4698b922b5",
   "metadata": {},
   "outputs": [
    {
     "data": {
      "text/plain": [
       "749"
      ]
     },
     "execution_count": 16,
     "metadata": {},
     "output_type": "execute_result"
    }
   ],
   "source": [
    "len(good_clips)"
   ]
  },
  {
   "cell_type": "code",
   "execution_count": 17,
   "id": "2d0fa897-9c07-448b-ab61-6faef345ae2e",
   "metadata": {},
   "outputs": [],
   "source": [
    "f = open(\"/shared/raiymbek/qa_data/batch1_links.json\")\n",
    "data = json.load(f)"
   ]
  },
  {
   "cell_type": "code",
   "execution_count": 20,
   "id": "aeadac55-e6fe-453d-a76a-3fcecd77d69d",
   "metadata": {},
   "outputs": [
    {
     "data": {
      "text/plain": [
       "['https://drive.google.com/file/d/1PqERbEceLHiO1bhBxqWxwuCUWp7XxAKt/view?usp=drivesdk',\n",
       " '/home/raiymbek/gpt_qa/qa_datasets/batch1_clips/8fa12f62-ed24-412d-bf8b-5459828304b0_116635.mp4']"
      ]
     },
     "execution_count": 20,
     "metadata": {},
     "output_type": "execute_result"
    }
   ],
   "source": [
    "data['116635']"
   ]
  },
  {
   "cell_type": "code",
   "execution_count": 24,
   "id": "c88b2fe8-d94e-4dab-8062-3cf602c112f7",
   "metadata": {},
   "outputs": [],
   "source": [
    "clip_url = data['116635'][0]"
   ]
  },
  {
   "cell_type": "code",
   "execution_count": 25,
   "id": "4a868d3b-5577-4694-bf6c-1c066a2632a3",
   "metadata": {},
   "outputs": [],
   "source": [
    "clip_url = clip_url[32:]\n",
    "clip_url = \"https://drive.google.com/uc?export=view&id=\" + clip_url[:clip_url.find(\"/\")]"
   ]
  },
  {
   "cell_type": "code",
   "execution_count": 26,
   "id": "670a40c0-257c-42ab-bd5e-3bc966b85e88",
   "metadata": {},
   "outputs": [
    {
     "data": {
      "text/plain": [
       "'https://drive.google.com/uc?export=view&id=1PqERbEceLHiO1bhBxqWxwuCUWp7XxAKt'"
      ]
     },
     "execution_count": 26,
     "metadata": {},
     "output_type": "execute_result"
    }
   ],
   "source": [
    "clip_url"
   ]
  },
  {
   "cell_type": "code",
   "execution_count": 28,
   "id": "35f0610a-fc29-403d-8bed-ad4fbe8cadad",
   "metadata": {},
   "outputs": [],
   "source": [
    "qa_location = \"/shared/raiymbek/qa_data\"\n",
    "name_to_link = {}\n",
    "for batch in [\"batch1\", \"batch2\", \"batch3\", \"batch4\"]:\n",
    "    f = open(f\"/shared/raiymbek/qa_data/{batch}_links.json\")\n",
    "    data = json.load(f)\n",
    "\n",
    "    for clip_id in data:\n",
    "        clip_url, clip_name = data[clip_id]\n",
    "\n",
    "        clip_url = clip_url[32:]\n",
    "        clip_url = \"https://drive.google.com/uc?export=view&id=\" + clip_url[:clip_url.find(\"/\")]\n",
    "\n",
    "        clip_name = clip_name[clip_name.rfind(\"/\") + 1:]\n",
    "\n",
    "        name_to_link[clip_name] = clip_url\n",
    "with open(f\"name_to_link.json\", 'w') as f:\n",
    "    json.dump(name_to_link, f)  "
   ]
  },
  {
   "cell_type": "code",
   "execution_count": 31,
   "id": "095200d6-202e-47dd-b676-7865e6db5faf",
   "metadata": {},
   "outputs": [],
   "source": [
    "good_df.head()\n",
    "clip_to_question = {row[\"clip_url\"]:row[\"question1\"] for i, row in good_df.iterrows()}\n",
    "with open(f\"clip_to_question.json\", 'w') as f:\n",
    "    json.dump(clip_to_question, f) "
   ]
  },
  {
   "cell_type": "code",
   "execution_count": null,
   "id": "2882c363-4e2f-40b4-8ee5-8ae5cba43680",
   "metadata": {},
   "outputs": [],
   "source": []
  }
 ],
 "metadata": {
  "kernelspec": {
   "display_name": "Python 3 (ipykernel)",
   "language": "python",
   "name": "python3"
  },
  "language_info": {
   "codemirror_mode": {
    "name": "ipython",
    "version": 3
   },
   "file_extension": ".py",
   "mimetype": "text/x-python",
   "name": "python",
   "nbconvert_exporter": "python",
   "pygments_lexer": "ipython3",
   "version": "3.8.10"
  }
 },
 "nbformat": 4,
 "nbformat_minor": 5
}
